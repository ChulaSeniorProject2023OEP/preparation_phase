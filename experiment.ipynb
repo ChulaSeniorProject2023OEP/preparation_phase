{
 "cells": [
  {
   "cell_type": "markdown",
   "metadata": {},
   "source": [
    "# Real time verification"
   ]
  },
  {
   "cell_type": "markdown",
   "metadata": {},
   "source": [
    "## Verification using deepface"
   ]
  },
  {
   "cell_type": "code",
   "execution_count": 1,
   "metadata": {},
   "outputs": [],
   "source": [
    "import threading\n",
    "import os\n",
    "import logging\n",
    "import time\n",
    "\n",
    "import cv2\n",
    "from deepface import DeepFace"
   ]
  },
  {
   "cell_type": "markdown",
   "metadata": {},
   "source": [
    "## Test functions"
   ]
  },
  {
   "cell_type": "code",
   "execution_count": 6,
   "metadata": {},
   "outputs": [],
   "source": [
    "img1_path = './database/verificaton_images/input_image/reference.jpg'\n",
    "img2_path = './database/verificaton_images/input_image/reference2.jpg'"
   ]
  },
  {
   "cell_type": "markdown",
   "metadata": {},
   "source": [
    "```\n",
    "models = {\n",
    "        \"VGG-Face\",\n",
    "        \"OpenFace\",\n",
    "        \"Facenet\",\n",
    "        \"Facenet512\",\n",
    "        \"DeepFace\",\n",
    "        \"DeepID\",\n",
    "        \"Dlib\",\n",
    "        \"ArcFace\",\n",
    "        \"SFace\",\n",
    "    }\n",
    "```"
   ]
  },
  {
   "cell_type": "code",
   "execution_count": 42,
   "metadata": {},
   "outputs": [],
   "source": [
    "model_name = 'DeepFace'"
   ]
  },
  {
   "cell_type": "code",
   "execution_count": 45,
   "metadata": {},
   "outputs": [],
   "source": [
    "result = DeepFace.verify(img1_path, img2_path, model_name=model_name)"
   ]
  },
  {
   "cell_type": "code",
   "execution_count": 46,
   "metadata": {},
   "outputs": [
    {
     "data": {
      "text/plain": [
       "{'verified': False,\n",
       " 'distance': 0.29393575611995415,\n",
       " 'threshold': 0.23,\n",
       " 'model': 'DeepFace',\n",
       " 'detector_backend': 'opencv',\n",
       " 'similarity_metric': 'cosine',\n",
       " 'facial_areas': {'img1': {'x': 273, 'y': 151, 'w': 166, 'h': 166},\n",
       "  'img2': {'x': 313, 'y': 71, 'w': 174, 'h': 174}},\n",
       " 'time': 0.13}"
      ]
     },
     "execution_count": 46,
     "metadata": {},
     "output_type": "execute_result"
    }
   ],
   "source": [
    "result"
   ]
  },
  {
   "cell_type": "markdown",
   "metadata": {},
   "source": [
    "## Realtime"
   ]
  },
  {
   "cell_type": "code",
   "execution_count": 7,
   "metadata": {},
   "outputs": [
    {
     "name": "stdout",
     "output_type": "stream",
     "text": [
      "user ID: 6338240121\n"
     ]
    }
   ],
   "source": [
    "user_id = input(\">> Enter user id: \")\n",
    "print(f\"user ID: {user_id}\")"
   ]
  },
  {
   "cell_type": "code",
   "execution_count": 2,
   "metadata": {},
   "outputs": [],
   "source": [
    "cap = cv2.VideoCapture(0)\n",
    "\n",
    "cap.set(cv2.CAP_PROP_FRAME_WIDTH, 640)\n",
    "cap.set(cv2.CAP_PROP_FRAME_HEIGHT, 480)\n",
    "\n",
    "while True:\n",
    "    ret, frame = cap.read()\n",
    "    user_id = input(\">> Enter user id: \")\n",
    "    print(f\"user ID: {user_id}\")\n",
    "    if ret:\n",
    "        cv2.imshow('frame', frame)\n",
    "    if cv2.waitKey(1) & 0xFF == ord('q'):\n",
    "        cv2.imwrite('./database/verificaton_images/input_image/{user_id}.jpg', frame)\n",
    "        break\n",
    "\n",
    "cap.release()\n",
    "cv2.destroyAllWindows()"
   ]
  },
  {
   "cell_type": "code",
   "execution_count": 38,
   "metadata": {},
   "outputs": [
    {
     "name": "stdout",
     "output_type": "stream",
     "text": [
      "{'verified': True, 'distance': 0.4158082691607591, 'threshold': 0.68, 'model': 'ArcFace', 'detector_backend': 'opencv', 'similarity_metric': 'cosine', 'facial_areas': {'img1': {'x': 305, 'y': 84, 'w': 175, 'h': 175}, 'img2': {'x': 273, 'y': 151, 'w': 166, 'h': 166}}, 'time': 0.2}\n",
      "{'verified': True, 'distance': 0.34308726357532204, 'threshold': 0.68, 'model': 'ArcFace', 'detector_backend': 'opencv', 'similarity_metric': 'cosine', 'facial_areas': {'img1': {'x': 307, 'y': 83, 'w': 172, 'h': 172}, 'img2': {'x': 273, 'y': 151, 'w': 166, 'h': 166}}, 'time': 0.18}\n",
      "{'verified': True, 'distance': 0.3881357184442893, 'threshold': 0.68, 'model': 'ArcFace', 'detector_backend': 'opencv', 'similarity_metric': 'cosine', 'facial_areas': {'img1': {'x': 308, 'y': 86, 'w': 171, 'h': 171}, 'img2': {'x': 273, 'y': 151, 'w': 166, 'h': 166}}, 'time': 0.18}\n",
      "{'verified': True, 'distance': 0.4079937276181467, 'threshold': 0.68, 'model': 'ArcFace', 'detector_backend': 'opencv', 'similarity_metric': 'cosine', 'facial_areas': {'img1': {'x': 302, 'y': 84, 'w': 182, 'h': 182}, 'img2': {'x': 273, 'y': 151, 'w': 166, 'h': 166}}, 'time': 0.18}\n",
      "{'verified': True, 'distance': 0.42730307471290485, 'threshold': 0.68, 'model': 'ArcFace', 'detector_backend': 'opencv', 'similarity_metric': 'cosine', 'facial_areas': {'img1': {'x': 304, 'y': 90, 'w': 178, 'h': 178}, 'img2': {'x': 273, 'y': 151, 'w': 166, 'h': 166}}, 'time': 0.18}\n",
      "{'verified': True, 'distance': 0.44789660621842364, 'threshold': 0.68, 'model': 'ArcFace', 'detector_backend': 'opencv', 'similarity_metric': 'cosine', 'facial_areas': {'img1': {'x': 304, 'y': 87, 'w': 180, 'h': 180}, 'img2': {'x': 273, 'y': 151, 'w': 166, 'h': 166}}, 'time': 0.18}\n",
      "{'verified': False, 'distance': 0.8922666416128195, 'threshold': 0.68, 'model': 'ArcFace', 'detector_backend': 'opencv', 'similarity_metric': 'cosine', 'facial_areas': {'img1': {'x': 314, 'y': 73, 'w': 165, 'h': 165}, 'img2': {'x': 273, 'y': 151, 'w': 166, 'h': 166}}, 'time': 0.19}\n",
      "{'verified': True, 'distance': 0.2957631443925497, 'threshold': 0.68, 'model': 'ArcFace', 'detector_backend': 'opencv', 'similarity_metric': 'cosine', 'facial_areas': {'img1': {'x': 293, 'y': 74, 'w': 175, 'h': 175}, 'img2': {'x': 273, 'y': 151, 'w': 166, 'h': 166}}, 'time': 0.18}\n",
      "{'verified': True, 'distance': 0.31847105948400667, 'threshold': 0.68, 'model': 'ArcFace', 'detector_backend': 'opencv', 'similarity_metric': 'cosine', 'facial_areas': {'img1': {'x': 287, 'y': 71, 'w': 182, 'h': 182}, 'img2': {'x': 273, 'y': 151, 'w': 166, 'h': 166}}, 'time': 0.19}\n",
      "{'verified': True, 'distance': 0.30145074641778746, 'threshold': 0.68, 'model': 'ArcFace', 'detector_backend': 'opencv', 'similarity_metric': 'cosine', 'facial_areas': {'img1': {'x': 305, 'y': 83, 'w': 169, 'h': 169}, 'img2': {'x': 273, 'y': 151, 'w': 166, 'h': 166}}, 'time': 0.18}\n",
      "{'verified': True, 'distance': 0.30429284171461024, 'threshold': 0.68, 'model': 'ArcFace', 'detector_backend': 'opencv', 'similarity_metric': 'cosine', 'facial_areas': {'img1': {'x': 333, 'y': 77, 'w': 164, 'h': 164}, 'img2': {'x': 273, 'y': 151, 'w': 166, 'h': 166}}, 'time': 0.19}\n",
      "{'verified': False, 'distance': 0.9126731955975399, 'threshold': 0.68, 'model': 'ArcFace', 'detector_backend': 'opencv', 'similarity_metric': 'cosine', 'facial_areas': {'img1': {'x': 315, 'y': 82, 'w': 164, 'h': 164}, 'img2': {'x': 273, 'y': 151, 'w': 166, 'h': 166}}, 'time': 0.19}\n",
      "{'verified': True, 'distance': 0.29200796194250866, 'threshold': 0.68, 'model': 'ArcFace', 'detector_backend': 'opencv', 'similarity_metric': 'cosine', 'facial_areas': {'img1': {'x': 297, 'y': 76, 'w': 172, 'h': 172}, 'img2': {'x': 273, 'y': 151, 'w': 166, 'h': 166}}, 'time': 0.18}\n",
      "{'verified': True, 'distance': 0.3728798982402868, 'threshold': 0.68, 'model': 'ArcFace', 'detector_backend': 'opencv', 'similarity_metric': 'cosine', 'facial_areas': {'img1': {'x': 290, 'y': 78, 'w': 175, 'h': 175}, 'img2': {'x': 273, 'y': 151, 'w': 166, 'h': 166}}, 'time': 0.19}\n",
      "{'verified': False, 'distance': 0.8899465775882794, 'threshold': 0.68, 'model': 'ArcFace', 'detector_backend': 'opencv', 'similarity_metric': 'cosine', 'facial_areas': {'img1': {'x': 450, 'y': 279, 'w': 58, 'h': 58}, 'img2': {'x': 273, 'y': 151, 'w': 166, 'h': 166}}, 'time': 0.19}\n",
      "{'verified': False, 'distance': 0.8984536957544843, 'threshold': 0.68, 'model': 'ArcFace', 'detector_backend': 'opencv', 'similarity_metric': 'cosine', 'facial_areas': {'img1': {'x': 266, 'y': 78, 'w': 171, 'h': 171}, 'img2': {'x': 273, 'y': 151, 'w': 166, 'h': 166}}, 'time': 0.18}\n",
      "{'verified': True, 'distance': 0.284477350353068, 'threshold': 0.68, 'model': 'ArcFace', 'detector_backend': 'opencv', 'similarity_metric': 'cosine', 'facial_areas': {'img1': {'x': 287, 'y': 81, 'w': 177, 'h': 177}, 'img2': {'x': 273, 'y': 151, 'w': 166, 'h': 166}}, 'time': 0.19}\n",
      "{'verified': True, 'distance': 0.4610711422542175, 'threshold': 0.68, 'model': 'ArcFace', 'detector_backend': 'opencv', 'similarity_metric': 'cosine', 'facial_areas': {'img1': {'x': 301, 'y': 87, 'w': 170, 'h': 170}, 'img2': {'x': 273, 'y': 151, 'w': 166, 'h': 166}}, 'time': 0.19}\n",
      "{'verified': True, 'distance': 0.38253393078312636, 'threshold': 0.68, 'model': 'ArcFace', 'detector_backend': 'opencv', 'similarity_metric': 'cosine', 'facial_areas': {'img1': {'x': 299, 'y': 88, 'w': 172, 'h': 172}, 'img2': {'x': 273, 'y': 151, 'w': 166, 'h': 166}}, 'time': 0.18}\n",
      "{'verified': True, 'distance': 0.37797040534743576, 'threshold': 0.68, 'model': 'ArcFace', 'detector_backend': 'opencv', 'similarity_metric': 'cosine', 'facial_areas': {'img1': {'x': 296, 'y': 88, 'w': 173, 'h': 173}, 'img2': {'x': 273, 'y': 151, 'w': 166, 'h': 166}}, 'time': 0.18}\n",
      "{'verified': True, 'distance': 0.3224740689450384, 'threshold': 0.68, 'model': 'ArcFace', 'detector_backend': 'opencv', 'similarity_metric': 'cosine', 'facial_areas': {'img1': {'x': 283, 'y': 78, 'w': 180, 'h': 180}, 'img2': {'x': 273, 'y': 151, 'w': 166, 'h': 166}}, 'time': 0.19}\n",
      "{'verified': True, 'distance': 0.2986482983282198, 'threshold': 0.68, 'model': 'ArcFace', 'detector_backend': 'opencv', 'similarity_metric': 'cosine', 'facial_areas': {'img1': {'x': 274, 'y': 73, 'w': 177, 'h': 177}, 'img2': {'x': 273, 'y': 151, 'w': 166, 'h': 166}}, 'time': 0.19}\n",
      "{'verified': True, 'distance': 0.4516332881593079, 'threshold': 0.68, 'model': 'ArcFace', 'detector_backend': 'opencv', 'similarity_metric': 'cosine', 'facial_areas': {'img1': {'x': 266, 'y': 66, 'w': 187, 'h': 187}, 'img2': {'x': 273, 'y': 151, 'w': 166, 'h': 166}}, 'time': 0.19}\n",
      "{'verified': True, 'distance': 0.3379858764963257, 'threshold': 0.68, 'model': 'ArcFace', 'detector_backend': 'opencv', 'similarity_metric': 'cosine', 'facial_areas': {'img1': {'x': 276, 'y': 73, 'w': 173, 'h': 173}, 'img2': {'x': 273, 'y': 151, 'w': 166, 'h': 166}}, 'time': 0.18}\n",
      "{'verified': True, 'distance': 0.30159787115365266, 'threshold': 0.68, 'model': 'ArcFace', 'detector_backend': 'opencv', 'similarity_metric': 'cosine', 'facial_areas': {'img1': {'x': 277, 'y': 78, 'w': 172, 'h': 172}, 'img2': {'x': 273, 'y': 151, 'w': 166, 'h': 166}}, 'time': 0.19}\n",
      "{'verified': True, 'distance': 0.3529356727115289, 'threshold': 0.68, 'model': 'ArcFace', 'detector_backend': 'opencv', 'similarity_metric': 'cosine', 'facial_areas': {'img1': {'x': 282, 'y': 74, 'w': 180, 'h': 180}, 'img2': {'x': 273, 'y': 151, 'w': 166, 'h': 166}}, 'time': 0.18}\n",
      "{'verified': True, 'distance': 0.3091841018219452, 'threshold': 0.68, 'model': 'ArcFace', 'detector_backend': 'opencv', 'similarity_metric': 'cosine', 'facial_areas': {'img1': {'x': 295, 'y': 79, 'w': 175, 'h': 175}, 'img2': {'x': 273, 'y': 151, 'w': 166, 'h': 166}}, 'time': 0.18}\n",
      "{'verified': True, 'distance': 0.3456907754233346, 'threshold': 0.68, 'model': 'ArcFace', 'detector_backend': 'opencv', 'similarity_metric': 'cosine', 'facial_areas': {'img1': {'x': 295, 'y': 80, 'w': 174, 'h': 174}, 'img2': {'x': 273, 'y': 151, 'w': 166, 'h': 166}}, 'time': 0.19}\n"
     ]
    }
   ],
   "source": [
    "cap = cv2.VideoCapture(0)\n",
    "\n",
    "cap.set(cv2.CAP_PROP_FRAME_WIDTH, 640)\n",
    "cap.set(cv2.CAP_PROP_FRAME_HEIGHT, 480)\n",
    "\n",
    "# frame counter\n",
    "counter = 0\n",
    "\n",
    "face_match = False\n",
    "model_name = 'ArcFace'\n",
    "\n",
    "reference_img = cv2.imread(\"./database/verificaton_images/input_image/reference.jpg\")\n",
    "cv2.imshow(\"reference_img\", reference_img)\n",
    "\n",
    "def check_face(frame):\n",
    "    global face_match\n",
    "    try:\n",
    "        result = DeepFace.verify(frame, reference_img.copy(), model_name=model_name)\n",
    "        print(result)\n",
    "        if result['verified']:\n",
    "            face_match = True\n",
    "        else:\n",
    "            face_match = False\n",
    "    except ValueError:\n",
    "        face_match = False\n",
    "\n",
    "while cap.isOpened():\n",
    "    ret, frame = cap.read()\n",
    "\n",
    "    if ret:\n",
    "        if counter % 30 == 0:\n",
    "            try:\n",
    "                threading.Thread(target=check_face, args=(frame.copy(),)).start()\n",
    "            except ValueError:\n",
    "                pass\n",
    "        counter += 1\n",
    "    \n",
    "    if face_match:\n",
    "        cv2.putText(frame, \"FACE MATCH!\", (20, 450), cv2.FONT_HERSHEY_SIMPLEX, 2, (0, 255, 0), 3)\n",
    "    else:\n",
    "        cv2.putText(frame, \"NO FACE MATCH!\", (20, 450), cv2.FONT_HERSHEY_SIMPLEX, 2, (0, 0, 255), 3)\n",
    "\n",
    "    cv2.imshow('frame', frame)\n",
    "    key = cv2.waitKey(1)\n",
    "    if key == ord('q'):\n",
    "        break\n",
    "\n",
    "cap.release()\n",
    "cv2.destroyAllWindows()"
   ]
  },
  {
   "cell_type": "code",
   "execution_count": null,
   "metadata": {},
   "outputs": [],
   "source": []
  }
 ],
 "metadata": {
  "kernelspec": {
   "display_name": "oep",
   "language": "python",
   "name": "python3"
  },
  "language_info": {
   "codemirror_mode": {
    "name": "ipython",
    "version": 3
   },
   "file_extension": ".py",
   "mimetype": "text/x-python",
   "name": "python",
   "nbconvert_exporter": "python",
   "pygments_lexer": "ipython3",
   "version": "3.8.18"
  },
  "orig_nbformat": 4
 },
 "nbformat": 4,
 "nbformat_minor": 2
}
